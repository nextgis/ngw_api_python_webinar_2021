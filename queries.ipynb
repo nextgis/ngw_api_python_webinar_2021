{
 "cells": [
  {
   "cell_type": "code",
   "execution_count": 15,
   "metadata": {},
   "outputs": [],
   "source": [
    "# библиотека, умеющая управлять HTTP запросами (отправлять и получать ответы)\n",
    "# library to manage HTTP requests\n",
    "import requests\n",
    "\n",
    "# библиотека для работы с JSON\n",
    "# library to interact with JSON\n",
    "import json\n",
    "\n",
    "# библиотека для генерации случайных чисел\n",
    "# library to generate random numbers\n",
    "import random"
   ]
  },
  {
   "cell_type": "code",
   "execution_count": 16,
   "metadata": {},
   "outputs": [],
   "source": [
    "# простейший пример GET запроса. Запишем в переменную r результат GET запроса к google.ru (как будто мы браузер)\n",
    "# simples GET request example. Lets write to r variable result of request to google.ru (imagine that yoy are a web-browser)\n",
    "r = requests.get('https://google.ru')"
   ]
  },
  {
   "cell_type": "code",
   "execution_count": 17,
   "metadata": {},
   "outputs": [
    {
     "data": {
      "text/plain": [
       "200"
      ]
     },
     "execution_count": 17,
     "metadata": {},
     "output_type": "execute_result"
    }
   ],
   "source": [
    "# Теперь в переменной r лежит всё, что связано с ответом на запрос.\n",
    "# Например, код статуса:\n",
    "# Now r variable contains everything about request\n",
    "# For example, status code:\n",
    "r.status_code"
   ]
  },
  {
   "cell_type": "code",
   "execution_count": 18,
   "metadata": {},
   "outputs": [
    {
     "data": {
      "text/plain": [
       "b'<!doctype html><html itemscope=\"\" itemtype=\"http://schema.org/WebPage\" lang=\"ru\"><head><meta content=\"\\xcf\\xee\\xe8\\xf1\\xea \\xe8\\xed\\xf4\\xee\\xf0\\xec\\xe0\\xf6\\xe8\\xe8 \\xe2 \\xe8\\xed\\xf2\\xe5\\xf0\\xed\\xe5\\xf2\\xe5: \\xe2\\xe5\\xe1 \\xf1\\xf2\\xf0\\xe0\\xed\\xe8\\xf6\\xfb, \\xea\\xe0\\xf0\\xf2\\xe8\\xed\\xea\\xe8, \\xe2\\xe8\\xe4\\xe5\\xee \\xe8 \\xec\\xed\\xee\\xe3\\xee\\xe5 \\xe4\\xf0\\xf3\\xe3\\xee\\xe5.\" name=\"description\"><meta content=\"noodp\" name=\"robots\"><meta content=\"text/html; charset=UTF-8\" http-equiv=\"Content-Type\"><meta content=\"/logos/doodles/2021/get-vaccinated-wear-a-mask-save-lives-august-4-6753651837109295-law.gif\" itemprop=\"image\"><meta content=\"\\xc7\\xe0\\xf9\\xe8\\xf9\\xe0\\xe9\\xf2\\xe5 \\xf1\\xe5\\xe1\\xff \\xe8 \\xe1\\xeb\\xe8\\xe7\\xea\\xe8\\xf5 #GoogleDoodle\" property=\"twitter:title\"><meta content=\"\\xc7\\xe0\\xf9\\xe8\\xf9\\xe0\\xe9\\xf2\\xe5 \\xf1\\xe5\\xe1\\xff \\xe8 \\xe1\\xeb\\xe8\\xe7\\xea\\xe8\\xf5 #GoogleDoodle\" property=\"twitter:description\"><meta content=\"\\xc7\\xe0\\xf9\\xe8\\xf9\\xe0\\xe9\\xf2\\xe5 \\xf1\\xe5\\xe1\\xff \\xe8 \\xe1\\xeb\\xe8\\xe7\\xea\\xe8\\xf5 #GoogleDoodle\" property=\"og:description\"><meta content=\"summary_large_image\" property=\"twitter:card\"><meta content=\"@GoogleDoodles\" property=\"twitter:site\"><meta content=\"https://www.google.com/logos/doodles/2021/get-vaccinated-wear-a-mask-save-lives-august-4-6753651837109295-2xa.gif\" property=\"twitter:image\"><meta content=\"https://www.google.com/logos/doodles/2021/get-vaccinated-wear-a-mask-save-lives-august-4-6753651837109295-2xa.gif\" property=\"og:image\"><meta content=\"1000\" property=\"og:image:width\"><meta content=\"400\" property=\"og:image:height\"><meta content=\"https://www.google.com/logos/doodles/2021/get-vaccinated-wear-a-mask-save-lives-august-4-6753651837109295-2xa.gif\" property=\"og:url\"><meta content=\"video.other\" property=\"og:type\"><title>Google</title><script nonce=\"AiMldinjNt77V4aju9AXqA==\">(function(){window.google={kEI:\\'KFQKYY2oDNP4sAfH5afoCQ\\',kEXPI:\\'0,772215,1,530320,56873,954,5105,206,4804,2316,383,246,5,1354,5251,6385,1116130,1197737,545,93,328892,51223,16115,17444,11240,17572,1326,3533,1361,9291,3023,17585,4998,13228,3847,4192,6431,14527,4520,2774,920,1831,3249,1593,1279,2212,531,148,1103,840,2196,4101,3514,606,2023,1777,520,14670,3227,2847,5,4774,825,6755,5096,602,7275,5036,2854,553,908,2,941,2614,13142,3,346,230,6460,148,12314,1661,4,1528,2304,1236,5227,576,4683,2015,4067,9544,4764,2658,4243,2458,654,32,13628,2305,638,1494,5586,7820,2715,665,2521,3258,2578,992,3102,17,2240,882,5,908,3,3541,1,14263,447,1814,283,912,5992,12526,2,1394,2806,1715,2,3057,6166,4799,1931,1532,2377,1680,743,1275,4578,1576,3,472,1818,5536,383,675,1160,1365,2738,592,2,1710,292,1533,847,2719,4032,2,512,3,117,8,5348,13,1447,87,3088,585,629,2372,2,6,1005,1414,395,2000,1024,1173,32,304,338,88,554,51,517,293,359,16,142,190,893,88,3,841,621,382,672,332,93,1137,549,2548,542,585,1767,81,37,565,164,836,2,1,3,1329,1616,499,236,758,6,71,317,320,23,9,8,60,1014,730,954,2,24,2,874,12,371,150,25,554,672,5600049,2032,226,220,59,2,158,5686966,309683,151,2799222,1324,882,444,1,2,80,1,1796,1,9,2,2551,1,748,141,795,563,1,4265,1,1,2,1331,3299,843,2609,155,17,13,72,139,4,2,20,2,169,13,19,46,5,39,96,548,29,2,2,1,2,1,2,2,7,4,1,2,2,2,2,2,2,353,513,186,1,1,158,3,2,2,2,2,2,4,2,3,3,235,34,10,72,11,23,2,2,13,22,2,17,4,23654679,299865,2773820,1267532,338,3,1454,960,542,538,5,1493,208,1657,296\\',kBL:\\'mR2O\\'};google.sn=\\'webhp\\';google.kHL=\\'ru\\';})();(function(){\\nvar f=this||self;var h,k=[];function l(a){for(var b;a&&(!a.getAttribute||!(b=a.getAttribute(\"eid\")));)a=a.parentNode;return b||h}function m(a){for(var b=null;a&&(!a.getAttribute||!(b=a.getAttribute(\"leid\")));)a=a.parentNode;return b}\\nfunction n(a,b,c,d,g){var e=\"\";c||-1!==b.search(\"&ei=\")||(e=\"&ei=\"+l(d),-1===b.search(\"&lei=\")&&(d=m(d))&&(e+=\"&lei=\"+d));d=\"\";!c&&f._cshid&&-1===b.search(\"&cshid=\")&&\"slh\"!==a&&(d=\"&cshid=\"+f._cshid);c=c||\"/\"+(g||\"gen_204\")+\"?atyp=i&ct=\"+a+\"&cad=\"+b+e+\"&zx=\"+Date.now()+d;/^http:/i.test(c)&&\"https:\"===window.location.protocol&&(google.ml&&google.ml(Error(\"a\"),!1,{src:c,glmm:1}),c=\"\");return c};h=google.kEI;google.getEI=l;google.getLEI=m;google.ml=function(){return null};google.log=function(a,b,c,d,g){if(c=n(a,b,c,d,g)){a=new Image;var e=k.length;k[e]=a;a.onerror=a.onload=a.onabort=function(){delete k[e]};a.src=c}};google.logUrl=n;}).call(this);(function(){\\ngoogle.y={};google.sy=[];google.x=function(a,b){if(a)var c=a.id;else{do c=Math.random();while(google.y[c])}google.y[c]=[a,b];return!1};google.sx=function(a){google.sy.push(a)};google.lm=[];google.plm=function(a){google.lm.push.apply(google.lm,a)};google.lq=[];google.load=function(a,b,c){google.lq.push([[a],b,c])};google.loadAll=function(a,b){google.lq.push([a,b])};google.bx=!1;google.lx=function(){};}).call(this);google.f={};(function(){\\ndocument.documentElement.addEventListener(\"submit\",function(b){var a;if(a=b.target){var c=a.getAttribute(\"data-submitfalse\");a=\"1\"==c||\"q\"==c&&!a.elements.q.value?!0:!1}else a=!1;a&&(b.preventDefault(),b.stopPropagation())},!0);document.documentElement.addEventListener(\"click\",function(b){var a;a:{for(a=b.target;a&&a!=document.documentElement;a=a.parentElement)if(\"A\"==a.tagName){a=\"1\"==a.getAttribute(\"data-nohref\");break a}a=!1}a&&b.preventDefault()},!0);}).call(this);</script><style>#gbar,#guser{font-size:13px;padding-top:1px !important;}#gbar{height:22px}#guser{padding-bottom:7px !important;text-align:right}.gbh,.gbd{border-top:1px solid #c9d7f1;font-size:1px}.gbh{height:0;position:absolute;top:24px;width:100%}@media all{.gb1{height:22px;margin-right:.5em;vertical-align:top}#gbar{float:left}}a.gb1,a.gb4{text-decoration:underline !important}a.gb1,a.gb4{color:#00c !important}.gbi .gb4{color:#dd8e27 !important}.gbf .gb4{color:#900 !important}\\n</style><style>body,td,a,p,.h{font-family:arial,sans-serif}body{margin:0;overflow-y:scroll}#gog{padding:3px 8px 0}td{line-height:.8em}.gac_m td{line-height:17px}form{margin-bottom:20px}.h{color:#1558d6}em{font-weight:bold;font-style:normal}.lst{height:25px;width:496px}.gsfi,.lst{font:18px arial,sans-serif}.gsfs{font:17px arial,sans-serif}.ds{display:inline-box;display:inline-block;margin:3px 0 4px;margin-left:4px}input{font-family:inherit}body{background:#fff;color:#000}a{color:#4b11a8;text-decoration:none}a:hover,a:active{text-decoration:underline}.fl a{color:#1558d6}a:visited{color:#4b11a8}.sblc{padding-top:5px}.sblc a{display:block;margin:2px 0;margin-left:13px;font-size:11px}.lsbb{background:#f8f9fa;border:solid 1px;border-color:#dadce0 #70757a #70757a #dadce0;height:30px}.lsbb{display:block}#WqQANb a{display:inline-block;margin:0 12px}.lsb{background:url(/images/nav_logo229.png) 0 -261px repeat-x;border:none;color:#000;cursor:pointer;height:30px;margin:0;outline:0;font:15px arial,sans-serif;vertical-align:top}.lsb:active{background:#dadce0}.lst:focus{outline:none}.tiah{width:458px}</style><script nonce=\"AiMldinjNt77V4aju9AXqA==\"></script></head><body bgcolor=\"#fff\"><script nonce=\"AiMldinjNt77V4aju9AXqA==\">(function(){var src=\\'/images/nav_logo229.png\\';var iesg=false;document.body.onload = function(){window.n && window.n();if (document.images){new Image().src=src;}\\nif (!iesg){document.f&&document.f.q.focus();document.gbqf&&document.gbqf.q.focus();}\\n}\\n})();</script><div id=\"mngb\"><div id=gbar><nobr><b class=gb1>\\xcf\\xee\\xe8\\xf1\\xea</b> <a class=gb1 href=\"https://www.google.ru/imghp?hl=ru&tab=wi\">\\xca\\xe0\\xf0\\xf2\\xe8\\xed\\xea\\xe8</a> <a class=gb1 href=\"https://maps.google.ru/maps?hl=ru&tab=wl\">\\xca\\xe0\\xf0\\xf2\\xfb</a> <a class=gb1 href=\"https://play.google.com/?hl=ru&tab=w8\">Play</a> <a class=gb1 href=\"https://www.youtube.com/?gl=RU&tab=w1\">YouTube</a> <a class=gb1 href=\"https://news.google.com/?tab=wn\">\\xcd\\xee\\xe2\\xee\\xf1\\xf2\\xe8</a> <a class=gb1 href=\"https://mail.google.com/mail/?tab=wm\">\\xcf\\xee\\xf7\\xf2\\xe0</a> <a class=gb1 href=\"https://drive.google.com/?tab=wo\">\\xc4\\xe8\\xf1\\xea</a> <a class=gb1 style=\"text-decoration:none\" href=\"https://www.google.ru/intl/ru/about/products?tab=wh\"><u>\\xc5\\xf9\\xb8</u> &raquo;</a></nobr></div><div id=guser width=100%><nobr><span id=gbn class=gbi></span><span id=gbf class=gbf></span><span id=gbe></span><a href=\"http://www.google.ru/history/optout?hl=ru\" class=gb4>\\xc8\\xf1\\xf2\\xee\\xf0\\xe8\\xff \\xe2\\xe5\\xe1-\\xef\\xee\\xe8\\xf1\\xea\\xe0</a> | <a  href=\"/preferences?hl=ru\" class=gb4>\\xcd\\xe0\\xf1\\xf2\\xf0\\xee\\xe9\\xea\\xe8</a> | <a target=_top id=gb_70 href=\"https://accounts.google.com/ServiceLogin?hl=ru&passive=true&continue=https://www.google.ru/&ec=GAZAAQ\" class=gb4>\\xc2\\xee\\xe9\\xf2\\xe8</a></nobr></div><div class=gbh style=left:0></div><div class=gbh style=right:0></div></div><center><br clear=\"all\" id=\"lgpd\"><div id=\"lga\"><a href=\"/search?newwindow=1&amp;ie=UTF-8&amp;q=%D0%BF%D1%80%D0%B8%D0%B2%D0%B8%D0%B2%D0%BA%D0%B0+%D0%BE%D1%82+%D0%BA%D0%BE%D1%80%D0%BE%D0%BD%D0%B0%D0%B2%D0%B8%D1%80%D1%83%D1%81%D0%B0&amp;oi=ddle&amp;ct=194964869&amp;hl=ru&amp;sa=X&amp;ved=0ahUKEwiN3InV_ZbyAhVTPOwKHcfyCZ0QPQgD\"><img alt=\"\\xc7\\xe0\\xf9\\xe8\\xf9\\xe0\\xe9\\xf2\\xe5 \\xf1\\xe5\\xe1\\xff \\xe8 \\xe1\\xeb\\xe8\\xe7\\xea\\xe8\\xf5 #GoogleDoodle\" border=\"0\" height=\"200\" src=\"/logos/doodles/2021/get-vaccinated-wear-a-mask-save-lives-august-4-6753651837109295-law.gif\" title=\"\\xc7\\xe0\\xf9\\xe8\\xf9\\xe0\\xe9\\xf2\\xe5 \\xf1\\xe5\\xe1\\xff \\xe8 \\xe1\\xeb\\xe8\\xe7\\xea\\xe8\\xf5 #GoogleDoodle\" width=\"500\" id=\"hplogo\"><br></a><br></div><form action=\"/search\" name=\"f\"><table cellpadding=\"0\" cellspacing=\"0\"><tr valign=\"top\"><td width=\"25%\">&nbsp;</td><td align=\"center\" nowrap=\"\"><input name=\"ie\" value=\"windows-1251\" type=\"hidden\"><input value=\"ru\" name=\"hl\" type=\"hidden\"><input name=\"source\" type=\"hidden\" value=\"hp\"><input name=\"biw\" type=\"hidden\"><input name=\"bih\" type=\"hidden\"><div class=\"ds\" style=\"height:32px;margin:4px 0\"><div style=\"position:relative;zoom:1\"><input class=\"lst tiah\" style=\"margin:0;padding:5px 8px 0 6px;vertical-align:top;color:#000;padding-right:38px\" autocomplete=\"off\" value=\"\" title=\"\\xcf\\xee\\xe8\\xf1\\xea \\xe2 Google\" maxlength=\"2048\" name=\"q\" size=\"57\"><img src=\"/textinputassistant/tia.png\" style=\"position:absolute;cursor:pointer;right:5px;top:4px;z-index:300\" data-script-url=\"/textinputassistant/11/ru_tia.js\" id=\"tsuid1\" alt=\"\" height=\"23\" width=\"27\"><script nonce=\"AiMldinjNt77V4aju9AXqA==\">(function(){var id=\\'tsuid1\\';document.getElementById(id).onclick = function(){var s = document.createElement(\\'script\\');s.src = this.getAttribute(\\'data-script-url\\');(document.getElementById(\\'xjsc\\')||document.body).appendChild(s);};})();</script></div></div><br style=\"line-height:0\"><span class=\"ds\"><span class=\"lsbb\"><input class=\"lsb\" value=\"\\xcf\\xee\\xe8\\xf1\\xea \\xe2 Google\" name=\"btnG\" type=\"submit\"></span></span><span class=\"ds\"><span class=\"lsbb\"><input class=\"lsb\" id=\"tsuid2\" value=\"\\xcc\\xed\\xe5 \\xef\\xee\\xe2\\xe5\\xe7\\xb8\\xf2!\" name=\"btnI\" type=\"submit\"><script nonce=\"AiMldinjNt77V4aju9AXqA==\">(function(){var id=\\'tsuid2\\';document.getElementById(id).onclick = function(){if (this.form.q.value){this.checked = 1;if (this.form.iflsig)this.form.iflsig.disabled = false;}\\nelse top.location=\\'/doodles/\\';};})();</script><input value=\"AINFCbYAAAAAYQpiOFWO_rR0Y5iKRyXYSLYMlX4WRRhf\" name=\"iflsig\" type=\"hidden\"></span></span></td><td class=\"fl sblc\" align=\"left\" nowrap=\"\" width=\"25%\"><a href=\"/advanced_search?hl=ru&amp;authuser=0\">\\xd0\\xe0\\xf1\\xf8\\xe8\\xf0\\xe5\\xed\\xed\\xfb\\xe9 \\xef\\xee\\xe8\\xf1\\xea</a></td></tr></table><input id=\"gbv\" name=\"gbv\" type=\"hidden\" value=\"1\"><script nonce=\"AiMldinjNt77V4aju9AXqA==\">(function(){\\nvar a,b=\"1\";if(document&&document.getElementById)if(\"undefined\"!=typeof XMLHttpRequest)b=\"2\";else if(\"undefined\"!=typeof ActiveXObject){var c,d,e=[\"MSXML2.XMLHTTP.6.0\",\"MSXML2.XMLHTTP.3.0\",\"MSXML2.XMLHTTP\",\"Microsoft.XMLHTTP\"];for(c=0;d=e[c++];)try{new ActiveXObject(d),b=\"2\"}catch(h){}}a=b;if(\"2\"==a&&-1==location.search.indexOf(\"&gbv=2\")){var f=google.gbvu,g=document.getElementById(\"gbv\");g&&(g.value=a);f&&window.setTimeout(function(){location.href=f},0)};}).call(this);</script></form><div id=\"gac_scont\"></div><div style=\"font-size:83%;min-height:3.5em\"><br></div><span id=\"footer\"><div style=\"font-size:10pt\"><div style=\"margin:19px auto;text-align:center\" id=\"WqQANb\"><a href=\"/intl/ru/ads/\">\\xd0\\xe5\\xea\\xeb\\xe0\\xec\\xed\\xfb\\xe5 \\xef\\xf0\\xee\\xe3\\xf0\\xe0\\xec\\xec\\xfb</a><a href=\"http://www.google.ru/intl/ru/services/\">\\xd0\\xe5\\xf8\\xe5\\xed\\xe8\\xff \\xe4\\xeb\\xff \\xe1\\xe8\\xe7\\xed\\xe5\\xf1\\xe0</a><a href=\"/intl/ru/about.html\">\\xc2\\xf1\\xb8 \\xee Google</a><a href=\"https://www.google.ru/setprefdomain?prefdom=US&amp;sig=K_-ps_gt4DTEXvbDEhD3W6Yf-1BUI%3D\" id=\"fehl\">Google.com</a></div></div><p style=\"font-size:8pt;color:#70757a\">&copy; 2021 - <a href=\"/intl/ru/policies/privacy/\">\\xca\\xee\\xed\\xf4\\xe8\\xe4\\xe5\\xed\\xf6\\xe8\\xe0\\xeb\\xfc\\xed\\xee\\xf1\\xf2\\xfc</a> - <a href=\"/intl/ru/policies/terms/\">\\xd3\\xf1\\xeb\\xee\\xe2\\xe8\\xff</a></p></span></center><script nonce=\"AiMldinjNt77V4aju9AXqA==\">(function(){window.google.cdo={height:757,width:1440};(function(){\\nvar a=window.innerWidth,b=window.innerHeight;if(!a||!b){var c=window.document,d=\"CSS1Compat\"==c.compatMode?c.documentElement:c.body;a=d.clientWidth;b=d.clientHeight}a&&b&&(a!=google.cdo.width||b!=google.cdo.height)&&google.log(\"\",\"\",\"/client_204?&atyp=i&biw=\"+a+\"&bih=\"+b+\"&ei=\"+google.kEI);}).call(this);})();</script> <script nonce=\"AiMldinjNt77V4aju9AXqA==\">(function(){google.xjs={ck:\\'\\',cs:\\'\\',excm:[]};})();</script>  <script nonce=\"AiMldinjNt77V4aju9AXqA==\">(function(){var u=\\'/xjs/_/js/k\\\\x3dxjs.hp.en._K_5Vqr6CRI.O/am\\\\x3dAPgEmA/d\\\\x3d1/ed\\\\x3d1/rs\\\\x3dACT90oGtb0ZDuyEZZXK8yHMly6bxOwlwCA/m\\\\x3dsb_he,d\\';\\nvar e=this||self,f=function(a){return a};var g;var l=function(a,b){this.g=b===h?a:\"\"};l.prototype.toString=function(){return this.g+\"\"};var h={};function m(){var a=u;google.lx=function(){n(a);google.lx=function(){}};google.bx||google.lx()}\\nfunction n(a){google.timers&&google.timers.load&&google.tick&&google.tick(\"load\",\"xjsls\");var b=document;var c=\"SCRIPT\";\"application/xhtml+xml\"===b.contentType&&(c=c.toLowerCase());c=b.createElement(c);if(void 0===g){b=null;var k=e.trustedTypes;if(k&&k.createPolicy){try{b=k.createPolicy(\"goog#html\",{createHTML:f,createScript:f,createScriptURL:f})}catch(p){e.console&&e.console.error(p.message)}g=b}else g=b}a=(b=g)?b.createScriptURL(a):a;a=new l(a,h);c.src=a instanceof l&&a.constructor===l?a.g:\"type_error:TrustedResourceUrl\";var d;a=(c.ownerDocument&&c.ownerDocument.defaultView||window).document;(d=(a=null===(d=a.querySelector)||void 0===d?void 0:d.call(a,\"script[nonce]\"))?a.nonce||a.getAttribute(\"nonce\")||\"\":\"\")&&c.setAttribute(\"nonce\",d);document.body.appendChild(c);google.psa=!0};setTimeout(function(){m()},0);})();(function(){window.google.xjsu=\\'/xjs/_/js/k\\\\x3dxjs.hp.en._K_5Vqr6CRI.O/am\\\\x3dAPgEmA/d\\\\x3d1/ed\\\\x3d1/rs\\\\x3dACT90oGtb0ZDuyEZZXK8yHMly6bxOwlwCA/m\\\\x3dsb_he,d\\';})();function _DumpException(e){throw e;}\\nfunction _F_installCss(c){}\\n(function(){google.jl={attn:false,blt:\\'none\\',chnk:0,dw:false,emtn:0,end:0,ine:false,lls:\\'default\\',pdt:0,rep:0,sif:false,snet:true,strt:0,ubm:false,uwp:true};})();(function(){var pmc=\\'{\\\\x22d\\\\x22:{},\\\\x22sb_he\\\\x22:{\\\\x22agen\\\\x22:true,\\\\x22cgen\\\\x22:true,\\\\x22client\\\\x22:\\\\x22heirloom-hp\\\\x22,\\\\x22dh\\\\x22:true,\\\\x22dhqt\\\\x22:true,\\\\x22ds\\\\x22:\\\\x22\\\\x22,\\\\x22ffql\\\\x22:\\\\x22ru\\\\x22,\\\\x22fl\\\\x22:true,\\\\x22host\\\\x22:\\\\x22google.ru\\\\x22,\\\\x22isbh\\\\x22:28,\\\\x22jsonp\\\\x22:true,\\\\x22msgs\\\\x22:{\\\\x22cibl\\\\x22:\\\\x22\\xd3\\xe4\\xe0\\xeb\\xe8\\xf2\\xfc \\xef\\xee\\xe8\\xf1\\xea\\xee\\xe2\\xfb\\xe9 \\xe7\\xe0\\xef\\xf0\\xee\\xf1\\\\x22,\\\\x22dym\\\\x22:\\\\x22\\xc2\\xee\\xe7\\xec\\xee\\xe6\\xed\\xee, \\xe2\\xfb \\xe8\\xec\\xe5\\xeb\\xe8 \\xe2 \\xe2\\xe8\\xe4\\xf3:\\\\x22,\\\\x22lcky\\\\x22:\\\\x22\\xcc\\xed\\xe5 \\xef\\xee\\xe2\\xe5\\xe7\\xb8\\xf2!\\\\x22,\\\\x22lml\\\\x22:\\\\x22\\xcf\\xee\\xe4\\xf0\\xee\\xe1\\xed\\xe5\\xe5...\\\\x22,\\\\x22oskt\\\\x22:\\\\x22\\xdd\\xea\\xf0\\xe0\\xed\\xed\\xe0\\xff \\xea\\xeb\\xe0\\xe2\\xe8\\xe0\\xf2\\xf3\\xf0\\xe0\\\\x22,\\\\x22psrc\\\\x22:\\\\x22\\xdd\\xf2\\xee\\xf2 \\xe7\\xe0\\xef\\xf0\\xee\\xf1 \\xe1\\xfb\\xeb \\xf3\\xe4\\xe0\\xeb\\xe5\\xed \\xe8\\xe7 \\xe2\\xe0\\xf8\\xe5\\xe9 \\\\\\\\u003Ca href\\\\x3d\\\\\\\\\\\\x22/history\\\\\\\\\\\\x22\\\\\\\\u003E\\xe8\\xf1\\xf2\\xee\\xf0\\xe8\\xe8 \\xe2\\xe5\\xe1-\\xef\\xee\\xe8\\xf1\\xea\\xe0\\\\\\\\u003C/a\\\\\\\\u003E\\\\x22,\\\\x22psrl\\\\x22:\\\\x22\\xd3\\xe4\\xe0\\xeb\\xe8\\xf2\\xfc\\\\x22,\\\\x22sbit\\\\x22:\\\\x22\\xcf\\xee\\xe8\\xf1\\xea \\xef\\xee \\xea\\xe0\\xf0\\xf2\\xe8\\xed\\xea\\xe5\\\\x22,\\\\x22srch\\\\x22:\\\\x22\\xcf\\xee\\xe8\\xf1\\xea \\xe2 Google\\\\x22},\\\\x22ovr\\\\x22:{},\\\\x22pq\\\\x22:\\\\x22\\\\x22,\\\\x22refpd\\\\x22:true,\\\\x22rfs\\\\x22:[],\\\\x22sbas\\\\x22:\\\\x220 3px 8px 0 rgba(0,0,0,0.2),0 0 0 1px rgba(0,0,0,0.08)\\\\x22,\\\\x22sbpl\\\\x22:16,\\\\x22sbpr\\\\x22:16,\\\\x22scd\\\\x22:10,\\\\x22stok\\\\x22:\\\\x22yGLIdxKVE8mVMke3BYDil5bTdSY\\\\x22,\\\\x22uhde\\\\x22:false}}\\';google.pmc=JSON.parse(pmc);})();</script>        </body></html>'"
      ]
     },
     "execution_count": 18,
     "metadata": {},
     "output_type": "execute_result"
    }
   ],
   "source": [
    "# Собственно тело ответа\n",
    "# Content of response\n",
    "r.content"
   ]
  },
  {
   "cell_type": "code",
   "execution_count": 5,
   "metadata": {},
   "outputs": [],
   "source": [
    "# Перейдём к NGW. Решим задачу из 5-ти шагов:\n",
    "# 1. Создать группу ресурсов\n",
    "# 2. Создать в ней новый векторный слой\n",
    "# 3. Создать внутри него несколько объектов\n",
    "# 4. Создать стиль MapServer\n",
    "# 5. Создать карту с этим слоем\n",
    "\n",
    "# Lets take a look at NGW. Imagine workflow with 5 steps:\n",
    "# 1. Create resource group (folder)\n",
    "# 2. Create new vector layer\n",
    "# 3. Create several vector objects\n",
    "# 4. Create MapServer Style\n",
    "# 5. Create Web Map with this layer"
   ]
  },
  {
   "cell_type": "code",
   "execution_count": 19,
   "metadata": {},
   "outputs": [],
   "source": [
    "# Параметры подключения к Веб ГИС\n",
    "# Options to connect to Web GIS\n",
    "ngw_host = 'https://test-premium.nextgis.com'\n",
    "ngw_user = 'webinar'\n",
    "ngw_password = 'webinar00'\n",
    "parent_resource = 259"
   ]
  },
  {
   "cell_type": "code",
   "execution_count": 23,
   "metadata": {},
   "outputs": [
    {
     "name": "stdout",
     "output_type": "stream",
     "text": [
      "Статус: 201\n",
      "b'{\"id\": 339, \"parent\": {\"id\": 259}}'\n"
     ]
    }
   ],
   "source": [
    "# 1. Создать группу ресурсов\n",
    "# 1. Create resource group\n",
    "# https://docs.nextgis.ru/docs_ngweb_dev/doc/developer/create.html#resource-group\n",
    "\n",
    "request_url = '%s/api/resource/' % ngw_host\n",
    "\n",
    "# Структура нового объекта\n",
    "# New object structure\n",
    "data = {\n",
    "    \"resource\":\n",
    "    {\n",
    "        \"cls\":\"resource_group\",\n",
    "        \"parent\":\n",
    "        {\n",
    "            \"id\": parent_resource # родительский ресурс | parent resource\n",
    "        },\n",
    "        \"display_name\": u'Демонстрационная группа ресуров', # имя новой группы ресурсов | name for new resource group\n",
    "        \"description\":\"\"\n",
    "    }\n",
    "}\n",
    "\n",
    "# отправляем запрос\n",
    "# send requst\n",
    "r = requests.post(request_url,\n",
    "                  data=json.dumps(data),\n",
    "                  auth=(ngw_user, ngw_password))\n",
    "\n",
    "print (u'Статус (Status): %s' % r.status_code)\n",
    "print (r.content)\n",
    "\n"
   ]
  },
  {
   "cell_type": "code",
   "execution_count": 24,
   "metadata": {},
   "outputs": [],
   "source": [
    "new_resource_group_id = r.json()['id']"
   ]
  },
  {
   "cell_type": "code",
   "execution_count": 25,
   "metadata": {},
   "outputs": [
    {
     "name": "stdout",
     "output_type": "stream",
     "text": [
      "Статус: 201\n",
      "b'{\"id\": 340, \"parent\": {\"id\": 339}}'\n"
     ]
    }
   ],
   "source": [
    "# 2. Создать в ней новый векторный слой\n",
    "# 2. Create new vector layer\n",
    "# https://docs.nextgis.ru/docs_ngweb_dev/doc/developer/create.html#empty-vector-layer\n",
    "request_url = '%s/api/resource/' % ngw_host\n",
    "\n",
    "# Структура нового объекта\n",
    "# New object structure\n",
    "data = {\n",
    "    \"resource\":\n",
    "    {\n",
    "        \"cls\":\"vector_layer\",\n",
    "        \"parent\":\n",
    "        {\n",
    "            \"id\": new_resource_group_id # родительский ресурс | parent resource\n",
    "        },\n",
    "        \"display_name\": u'Демонстрационный векторный слой', # имя нового векторного слоя | name of new vector layer\n",
    "        \"description\":\"\"\n",
    "    },\n",
    "    \"resmeta\":{\n",
    "      \"items\":{}\n",
    "    },\n",
    "    \"vector_layer\":{\n",
    "        \"srs\":{ \"id\":3857 },\n",
    "        \"geometry_type\": \"POINT\",\n",
    "        \"fields\": [\n",
    "            {\n",
    "                \"keyname\": \"Number\",\n",
    "                \"datatype\": \"INTEGER\",\n",
    "                \"display_name\": u\"Номер\"\n",
    "            },\n",
    "            {\n",
    "                \"keyname\": \"Name\",\n",
    "                \"datatype\": \"STRING\",\n",
    "                \"display_name\": u\"Название\"\n",
    "            }\n",
    "        ]\n",
    "    }\n",
    "}\n",
    "\n",
    "# отправляем запрос\n",
    "# send request\n",
    "r = requests.post(request_url,\n",
    "                  data=json.dumps(data),\n",
    "                  auth=(ngw_user, ngw_password))\n",
    "\n",
    "print (u'Статус (Status): %s' % r.status_code)\n",
    "print (r.content)"
   ]
  },
  {
   "cell_type": "code",
   "execution_count": 26,
   "metadata": {},
   "outputs": [],
   "source": [
    "new_vector_layer_id = r.json()['id']"
   ]
  },
  {
   "cell_type": "code",
   "execution_count": 27,
   "metadata": {},
   "outputs": [
    {
     "name": "stdout",
     "output_type": "stream",
     "text": [
      "0\n",
      "Статус: 200\n",
      "b'{\"id\": 1}'\n",
      "1\n",
      "Статус: 200\n",
      "b'{\"id\": 2}'\n",
      "2\n",
      "Статус: 200\n",
      "b'{\"id\": 3}'\n"
     ]
    }
   ],
   "source": [
    "# 3. Создать внутри него несколько объектов\n",
    "# 3. Create several vector objects with random coordinates\n",
    "# https://docs.nextgis.ru/docs_ngweb_dev/doc/developer/create.html#feature-in-vector-or-postgis-layer\n",
    "\n",
    "request_url = '%s/api/resource/%s/feature/' % (ngw_host, new_vector_layer_id)\n",
    "\n",
    "for i in range(0,3):\n",
    "    # Структура нового объекта\n",
    "    # new object structure\n",
    "    data = {\n",
    "        \"extensions\": {\n",
    "            \"attachment\": None,\n",
    "            \"description\": None\n",
    "        },\n",
    "        \"fields\": {\n",
    "            \"Number\": i,\n",
    "            \"Name\": u\"Пример (example) %s\" % i\n",
    "        },\n",
    "        \"geom\": \"POINT (%s %s)\" % (random.randint(15112000,15114000), random.randint(6057000,6059000))\n",
    "    }\n",
    "\n",
    "    # отправляем запрос\n",
    "    # send request\n",
    "    r = requests.post(request_url,\n",
    "                      data=json.dumps(data),\n",
    "                      auth=(ngw_user, ngw_password))\n",
    "\n",
    "    print (i)\n",
    "    print (u'Статус (Status): %s' % r.status_code)\n",
    "    print (r.content)"
   ]
  },
  {
   "cell_type": "code",
   "execution_count": 28,
   "metadata": {},
   "outputs": [
    {
     "name": "stdout",
     "output_type": "stream",
     "text": [
      "2\n",
      "Статус: 201\n",
      "b'{\"id\": 341, \"parent\": {\"id\": 340}}'\n"
     ]
    }
   ],
   "source": [
    "# 4. Создать стиль MapServer\n",
    "# 4. Create MapServer style\n",
    "# https://docs.nextgis.ru/docs_ngweb_dev/doc/developer/create.html#mapserver-style\n",
    "\n",
    "request_url = '%s/api/resource/' % ngw_host\n",
    "\n",
    "data = {\n",
    "    \"mapserver_style\" : {\n",
    "    \"xml\" : \"<map><symbol><type>ellipse</type><name>circle</name><points>1 1</points><filled>true</filled></symbol><layer><class><style><color blue=\\\"98\\\" green=\\\"180\\\" red=\\\"253\\\"/><outlinecolor blue=\\\"64\\\" green=\\\"64\\\" red=\\\"64\\\"/><symbol>circle</symbol><size>6</size></style></class></layer><legend><keysize y=\\\"15\\\" x=\\\"15\\\"/><label><size>12</size><type>truetype</type><font>regular</font></label></legend></map>\"\n",
    "    },\n",
    "    \"resource\": {\n",
    "        \"cls\": \"mapserver_style\",\n",
    "        \"description\": None,\n",
    "        \"display_name\": u\"Пример стиля (style example)\",\n",
    "        \"keyname\": None,\n",
    "        \"parent\": {\n",
    "            \"id\": new_vector_layer_id\n",
    "        }\n",
    "    }\n",
    "}\n",
    "\n",
    "# отправляем запрос\n",
    "# send request\n",
    "r = requests.post(request_url,\n",
    "                  data=json.dumps(data),\n",
    "                  auth=(ngw_user, ngw_password))\n",
    "\n",
    "print (i)\n",
    "print (u'Статус: %s' % r.status_code)\n",
    "print (r.content)"
   ]
  },
  {
   "cell_type": "code",
   "execution_count": 29,
   "metadata": {},
   "outputs": [],
   "source": [
    "new_layer_style_id = r.json()['id']"
   ]
  },
  {
   "cell_type": "code",
   "execution_count": 30,
   "metadata": {},
   "outputs": [
    {
     "name": "stdout",
     "output_type": "stream",
     "text": [
      "2\n",
      "Статус: 201\n",
      "b'{\"id\": 342, \"parent\": {\"id\": 339}}'\n"
     ]
    }
   ],
   "source": [
    "# 5. Создать карту с этим слоем\n",
    "# 5. Create web map with this layer\n",
    "# https://docs.nextgis.ru/docs_ngweb_dev/doc/developer/create.html#web-map\n",
    "\n",
    "request_url = '%s/api/resource/' % ngw_host\n",
    "\n",
    "data = {\n",
    "        \"resource\": {\n",
    "            \"display_name\": u\"Пример карты (map example)\",\n",
    "            \"parent\": {\n",
    "                \"id\": new_resource_group_id\n",
    "            },\n",
    "            \"cls\": \"webmap\"\n",
    "        },\n",
    "        \"webmap\": {\n",
    "            \"root_item\": {\n",
    "                \"item_type\": \"root\",\n",
    "                \"children\": [\n",
    "                    {\n",
    "                        \"layer_enabled\": True,\n",
    "                        \"layer_adapter\": \"image\",\n",
    "                        \"display_name\": u'Слой на карте (layer on map)',\n",
    "                        \"layer_style_id\": new_layer_style_id,\n",
    "                        \"item_type\": \"layer\"\n",
    "                    }\n",
    "                ]\n",
    "            }\n",
    "        }\n",
    "    }\n",
    "\n",
    "# отправляем запрос\n",
    "# send request\n",
    "r = requests.post(request_url,\n",
    "                  data=json.dumps(data),\n",
    "                  auth=(ngw_user, ngw_password))\n",
    "\n",
    "print (i)\n",
    "print (u'Статус (Status): %s' % r.status_code)\n",
    "print (r.content)"
   ]
  },
  {
   "cell_type": "code",
   "execution_count": null,
   "metadata": {},
   "outputs": [],
   "source": []
  }
 ],
 "metadata": {
  "kernelspec": {
   "display_name": "Python 3",
   "language": "python",
   "name": "python3"
  },
  "language_info": {
   "codemirror_mode": {
    "name": "ipython",
    "version": 3
   },
   "file_extension": ".py",
   "mimetype": "text/x-python",
   "name": "python",
   "nbconvert_exporter": "python",
   "pygments_lexer": "ipython3",
   "version": "3.7.1"
  }
 },
 "nbformat": 4,
 "nbformat_minor": 2
}
